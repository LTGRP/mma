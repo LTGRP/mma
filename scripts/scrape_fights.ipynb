{
 "cells": [
  {
   "cell_type": "code",
   "execution_count": 2,
   "metadata": {},
   "outputs": [],
   "source": [
    "import requests\n",
    "import urllib3\n",
    "from bs4 import BeautifulSoup\n",
    "import pandas as pd\n",
    "import re\n",
    "from datetime import datetime, timedelta\n",
    "pd.set_option('display.max_columns', 500)\n",
    "\n",
    "from ufc_scraper import get_fight_stats, get_fight_card, get_all_fight_stats, get_fighter_details, update_fight_stats, update_fighter_details "
   ]
  },
  {
   "cell_type": "markdown",
   "metadata": {},
   "source": [
    "The section below shows how to use the functions for an initial data pull of fight history and fighter stats:"
   ]
  },
  {
   "cell_type": "code",
   "execution_count": null,
   "metadata": {
    "scrolled": true
   },
   "outputs": [
    {
     "name": "stdout",
     "output_type": "stream",
     "text": [
      "http://ufcstats.com/event-details/9ddfb3369a3b0394\n",
      "http://ufcstats.com/event-details/0b64d0fed453ef7f\n",
      "http://ufcstats.com/event-details/3b2485c8d5c8b580\n",
      "http://ufcstats.com/event-details/277ffed20cf07aea\n",
      "http://ufcstats.com/event-details/744f50016c39c26c\n",
      "http://ufcstats.com/event-details/58a36b4ccf5dc30e\n",
      "http://ufcstats.com/event-details/d57e6a8971b6d2bd\n"
     ]
    }
   ],
   "source": [
    "#scrape data from scratch\n",
    "fight_hist = get_all_fight_stats()\n",
    "\n",
    "fighter_stats = get_fighter_details(fight_hist.fighter_url.unique())"
   ]
  },
  {
   "cell_type": "code",
   "execution_count": 26,
   "metadata": {},
   "outputs": [],
   "source": [
    "#save data\n",
    "fight_hist.to_csv('~/Projects/ufc_scraper/data/fight_hist.csv', index = False)\n",
    "fighter_stats.to_csv('~/Projects/ufc_scraper/data/fighter_stats.csv', index = False)"
   ]
  },
  {
   "cell_type": "markdown",
   "metadata": {},
   "source": [
    "The section below shows how to use the function for updating dataframe for fight history and fighter stats:"
   ]
  },
  {
   "cell_type": "code",
   "execution_count": null,
   "metadata": {},
   "outputs": [],
   "source": [
    "#get already saved data\n",
    "fight_hist_old = pd.read_csv('~/tools/ufc_scraper/data/fight_hist.csv')\n",
    "\n",
    "fighter_stats_old = pd.read_csv('~/tools/ufc_scraper/data/fighter_stats.csv')"
   ]
  },
  {
   "cell_type": "code",
   "execution_count": null,
   "metadata": {
    "scrolled": true
   },
   "outputs": [],
   "source": [
    "#update fight hist dataframe\n",
    "fight_hist_updated = update_fight_stats(fight_hist_old)\n",
    "\n",
    "#update fighter stats\n",
    "fighter_stats_updated = update_fighter_details(fight_hist_updated.fighter_url.unique(), fighter_stats_old)"
   ]
  },
  {
   "cell_type": "code",
   "execution_count": null,
   "metadata": {},
   "outputs": [],
   "source": [
    "#save updated dataframes\n",
    "fight_hist_updated.to_csv('~/tools/ufc_scraper/data/fight_hist.csv', index = False)\n",
    "fighter_stats_updated.to_csv('~/tools/ufc_scraper/data/fighter_stats.csv', index = False)"
   ]
  },
  {
   "cell_type": "code",
   "execution_count": null,
   "metadata": {},
   "outputs": [],
   "source": [
    "fight_hist_updated"
   ]
  },
  {
   "cell_type": "code",
   "execution_count": null,
   "metadata": {},
   "outputs": [],
   "source": []
  }
 ],
 "metadata": {
  "anaconda-cloud": {},
  "kernelspec": {
   "display_name": "Python 3",
   "language": "python",
   "name": "python3"
  },
  "language_info": {
   "codemirror_mode": {
    "name": "ipython",
    "version": 3
   },
   "file_extension": ".py",
   "mimetype": "text/x-python",
   "name": "python",
   "nbconvert_exporter": "python",
   "pygments_lexer": "ipython3",
   "version": "3.8.5"
  }
 },
 "nbformat": 4,
 "nbformat_minor": 1
}
